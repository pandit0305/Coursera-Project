{
 "cells": [
  {
   "cell_type": "markdown",
   "metadata": {},
   "source": [
    "# The Battle Of Neighborhoods: Open a Hospital in Mumabi city India"
   ]
  },
  {
   "cell_type": "markdown",
   "metadata": {},
   "source": [
    "### Clustering and Segmenting The neighborhoods to find the appropriate location for opening a Hospital in Mumbai city "
   ]
  },
  {
   "cell_type": "markdown",
   "metadata": {},
   "source": [
    "### Table of conrnets:"
   ]
  },
  {
   "cell_type": "markdown",
   "metadata": {},
   "source": [
    "* [Introduction of business problem](#Introduction)\n",
    "* [Data](#Data)\n",
    "* [Methodology](#Methodology)\n",
    "* [Results and discussion](#Result)\n",
    "* [Conclusion](#Conclusion)"
   ]
  },
  {
   "cell_type": "markdown",
   "metadata": {},
   "source": [
    "## **Introduction**"
   ]
  },
  {
   "cell_type": "markdown",
   "metadata": {},
   "source": [
    "Mumbai is the capital of the Indian state of Maharashtra. According to the United Nations, as of 2018, Mumbai is the second most populous city in the country after delhi and the seventh most \n",
    "Populous city in the world with a population of roughly **20 million**. Now it is above. Mumbai has population density of \n",
    "**20,482** person per square kilometer which is very high.\n",
    "So, there are\n",
    "More chance to grow many types of Business.\n"
   ]
  },
  {
   "cell_type": "markdown",
   "metadata": {},
   "source": [
    "## Business Problem"
   ]
  },
  {
   "cell_type": "markdown",
   "metadata": {},
   "source": [
    "Now, imagine that we have a hospital in Delhi city  called ‘Public Hospital’ that has been doing business  success  in Delhi city, But Now we want to expand this Business in Mumbai.\n",
    "To success this project, our team has many problem for starting this project. They want to know every things about this project Because this is a challenging project. They ask many questions:\n",
    "###### •\tWhat are the most popular venues where hospital is situated?\n",
    "###### •\tWhat are probability to grow this business in that place?\n",
    "###### •\tHow many hospitals exist there?\n",
    "###### •\tWhat is the health status in that neigjhborhoods ? and so on\n",
    "Thus, we have a goal to open a hospital and we have to choose best location that meets the above criteria.\n"
   ]
  },
  {
   "cell_type": "markdown",
   "metadata": {},
   "source": [
    "### Audience who are passionate"
   ]
  },
  {
   "cell_type": "markdown",
   "metadata": {},
   "source": [
    "This project is for business man and stakeholder who are passionate about opening a hospital in metropolitan city like Mumbai,  Kolkata, etc. Also a business man who is searching this types of location to start a new business which is essential for people and never closed in future."
   ]
  },
  {
   "cell_type": "code",
   "execution_count": null,
   "metadata": {},
   "outputs": [],
   "source": []
  }
 ],
 "metadata": {
  "kernelspec": {
   "display_name": "Python 3",
   "language": "python",
   "name": "python3"
  },
  "language_info": {
   "codemirror_mode": {
    "name": "ipython",
    "version": 3
   },
   "file_extension": ".py",
   "mimetype": "text/x-python",
   "name": "python",
   "nbconvert_exporter": "python",
   "pygments_lexer": "ipython3",
   "version": "3.8.5"
  }
 },
 "nbformat": 4,
 "nbformat_minor": 4
}
